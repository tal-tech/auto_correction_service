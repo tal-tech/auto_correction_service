{
 "cells": [
  {
   "cell_type": "code",
   "execution_count": 5,
   "metadata": {},
   "outputs": [],
   "source": [
    "smin=0.08\n",
    "smax=0.6\n",
    "w = 512\n",
    "k = 7\n",
    "m = k - 1"
   ]
  },
  {
   "cell_type": "code",
   "execution_count": 6,
   "metadata": {},
   "outputs": [
    {
     "name": "stdout",
     "output_type": "stream",
     "text": [
      "40.96\n",
      "94.208\n",
      "147.45600000000002\n",
      "200.70400000000004\n",
      "253.95200000000003\n",
      "307.2\n",
      "360.44800000000004\n"
     ]
    }
   ],
   "source": [
    "for i in range(1, m+2):\n",
    "    print(w * (smin + (smax - smin)/(m - 1) * (i-1)))"
   ]
  },
  {
   "cell_type": "code",
   "execution_count": null,
   "metadata": {},
   "outputs": [],
   "source": []
  }
 ],
 "metadata": {
  "kernelspec": {
   "display_name": "Python 3",
   "language": "python",
   "name": "python3"
  },
  "language_info": {
   "codemirror_mode": {
    "name": "ipython",
    "version": 3
   },
   "file_extension": ".py",
   "mimetype": "text/x-python",
   "name": "python",
   "nbconvert_exporter": "python",
   "pygments_lexer": "ipython3",
   "version": "3.5.5"
  }
 },
 "nbformat": 4,
 "nbformat_minor": 2
}
